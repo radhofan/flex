{
 "cells": [
  {
   "cell_type": "markdown",
   "metadata": {},
   "source": [
    "# Baremetal Experiment Pattern\n",
    "\n",
    "This is a simple experiment that illustrates how you can capture power measurements from the bare metal machine directly. It's also an example of how to structure an experiment in a reproducible manner, and illustrates several of the capabilities offered by Chameleon for reproducibility. \n",
    "\n",
    "## Configuring resources\n",
    "\n",
    "We need to configure the experiment \"container,\" meaning to isolated, reproducible environment that our experiment will run in. Initially, this will configure Chameleon resources to the point where you will be able `ssh` to a node. The remainder of this setup is installing software on that node, which in this case is loaded from GitHub."
   ]
  },
  {
   "cell_type": "markdown",
   "metadata": {},
   "source": [
    "The first thing you must do is set what site and project to use. You can select this from the dropdown that displays, or use the defaults that are automatically picked. For more information about setting context in python-chi, [see here](https://python-chi.readthedocs.io/en/dev/modules/context.html)."
   ]
  },
  {
   "cell_type": "code",
   "execution_count": null,
   "metadata": {},
   "outputs": [],
   "source": [
    "from chi import context\n",
    "\n",
    "# During the transition period, we need to opt into the some of the \n",
    "# new python-chi functions. Otherwise the functional interface will\n",
    "# return the old types.\n",
    "context.version = \"1.0\"\n",
    "\n",
    "context.choose_site(default=\"CHI@TACC\")\n",
    "context.choose_project()"
   ]
  },
  {
   "cell_type": "markdown",
   "metadata": {},
   "source": [
    "### Check available hardware\n",
    "\n",
    "Next, we'll pick which hardware to us. The following code cell looks for nodes of type matching the `node_type` variable, and filters our ones that are reserved.\n",
    "\n",
    "This information comes from [the Chameleon hardware repository](https://chameleoncloud.org/hardware), and can be [queryed via python-chi](https://python-chi.readthedocs.io/en/dev/modules/hardware.html)."
   ]
  },
  {
   "cell_type": "code",
   "execution_count": null,
   "metadata": {},
   "outputs": [],
   "source": [
    "from chi import hardware\n",
    "\n",
    "node_type = \"compute_cascadelake_r\"\n",
    "available_nodes = hardware.get_nodes(node_type=node_type, filter_reserved=True)\n",
    "if available_nodes:\n",
    "    print(f\"There currently are {len(available_nodes)} {node_type} nodes ready to use\")\n",
    "else:\n",
    "    print(f\"All {node_type} nodes are in use! You could use next_free_timeslot to see how long you need to wait, or use the calendar.\")"
   ]
  },
  {
   "cell_type": "markdown",
   "metadata": {},
   "source": [
    "### Reserve node\n",
    "\n",
    "In order to use hardware on Chameleon, you'll need to [make a reservation](https://chameleoncloud.readthedocs.io/en/latest/technical/reservations.html). You can do this via [the python-chi lease module](https://python-chi.readthedocs.io/en/dev/modules/lease.html).\n",
    "\n",
    "If the resources you want to use are currently free, you can make a lease that starts right now. The following code does this to reserve one of the nodes found above, and it also reserves a floating ip."
   ]
  },
  {
   "cell_type": "code",
   "execution_count": null,
   "metadata": {},
   "outputs": [],
   "source": [
    "from chi import lease\n",
    "from datetime import timedelta\n",
    "import os\n",
    "\n",
    "my_lease = lease.Lease(f\"{os.getenv('USER')}-power-management\", duration=timedelta(hours=3))\n",
    "my_lease.add_node_reservation(nodes=[available_nodes[0]]) # or you could use node_type=node_type\n",
    "my_lease.add_fip_reservation(1) # include a floating ip\n",
    "my_lease.submit(idempotent=True)"
   ]
  },
  {
   "cell_type": "markdown",
   "metadata": {},
   "source": [
    "### Create a server on the node\n",
    "\n",
    "Next, we will launch the reserved node with [an image](https://chameleoncloud.readthedocs.io/en/latest/technical/images.html). You can search for [Chameleon supported images in python-chi](https://python-chi.readthedocs.io/en/dev/modules/image.html). Here, we use an Ubuntu image.\n",
    "\n",
    "Then, we submit the request to create a server, using the reservation information from our lease. You'll need to wait for the server to fully provision, which can around 10 minutes depending on the node."
   ]
  },
  {
   "cell_type": "code",
   "execution_count": null,
   "metadata": {},
   "outputs": [],
   "source": [
    "from chi import server\n",
    "\n",
    "my_server = server.Server(\n",
    "    f\"{os.getenv('USER')}-power-management\",\n",
    "    reservation_id=my_lease.node_reservations[0][\"id\"],\n",
    "    image_name=\"CC-Ubuntu22.04\", # or use image_name\n",
    ")\n",
    "my_server.submit(idempotent=True)"
   ]
  },
  {
   "cell_type": "markdown",
   "metadata": {},
   "source": [
    "### Configure networking on the node\n",
    "\n",
    "Now, we must configure the server to use the floating IP we reserved earlier. We'll also need to wait for the networking to finish configuring, which may take a few additional minutes."
   ]
  },
  {
   "cell_type": "code",
   "execution_count": null,
   "metadata": {},
   "outputs": [],
   "source": [
    "fip = my_lease.get_reserved_floating_ips()[0]\n",
    "my_server.associate_floating_ip(fip)\n",
    "my_server.check_connectivity(host=fip)"
   ]
  },
  {
   "cell_type": "markdown",
   "metadata": {},
   "source": [
    "### Install software on the node\n",
    "\n",
    "Now we will install our software on the node, over SSH. In your own experiment, you would likely want to change these commands.\n",
    "\n",
    "You can use the `execute` [method](https://python-chi.readthedocs.io/en/dev/modules/server.html#chi.server.Server.execute) or for more advance usage you can [get a Fabric Connection object](https://python-chi.readthedocs.io/en/dev/modules/server.html#chi.server.Server.ssh_connection)."
   ]
  },
  {
   "cell_type": "code",
   "execution_count": null,
   "metadata": {},
   "outputs": [],
   "source": [
    "# Clone git repo with experiment source code\n",
    "my_server.execute(\"git clone https://github.com/ChameleonCloud/bare_metal_experiment_pattern\")\n",
    "\n",
    "# Run setup script\n",
    "my_server.execute(\"bash bare_metal_experiment_pattern/scripts/setup.sh\")"
   ]
  },
  {
   "cell_type": "markdown",
   "metadata": {},
   "source": [
    "## Run Experiment\n",
    "\n",
    "Now, we can finally run the experiment. This will run the `stress-ng` program on different numbers of CPUs for 10 seconds, and measures the power consumption via `perf`. For more information on measuring power, see [this Chameleon blog post](https://chameleoncloud.org/blog/2024/06/18/power-measurement-and-management-on-chameleon/).\n",
    "\n",
    "You can edit `iterations` to gather more data points, which will result in a more interesting result."
   ]
  },
  {
   "cell_type": "code",
   "execution_count": null,
   "metadata": {},
   "outputs": [],
   "source": [
    "iterations = 1\n",
    "for i in range(iterations):\n",
    "    my_server.execute(\"bash bare_metal_experiment_pattern/scripts/run_experiment.sh 10\")"
   ]
  },
  {
   "cell_type": "markdown",
   "metadata": {},
   "source": [
    "## Analyze Results\n",
    "The experiment uploaded results to an object store bucket for today. If you re-run the experiment above, additional results will be placed there.\n",
    "\n",
    "To analyze these, we'll download the data locally. The Jupyter environment has limited resources, so if the data was large, we could process the data on the baremetal server instead."
   ]
  },
  {
   "cell_type": "code",
   "execution_count": null,
   "metadata": {},
   "outputs": [],
   "source": [
    "from chi import storage\n",
    "from datetime import datetime\n",
    "import os\n",
    "\n",
    "# Get current date in YYYY-MM-DD format\n",
    "os.makedirs(\"./out\", exist_ok=True)\n",
    "current_date = datetime.now().strftime('%Y-%m-%d')\n",
    "b = storage.ObjectBucket(f\"bare_metal_experiment_pattern_data_{current_date}\")\n",
    "for obj in b.list_objects():\n",
    "    print(f\"Downloading {obj.name}\")\n",
    "    obj.download(f\"out/{obj.name}\")"
   ]
  },
  {
   "cell_type": "markdown",
   "metadata": {},
   "source": [
    "Now, we process the data from the files so we can plot it."
   ]
  },
  {
   "cell_type": "code",
   "execution_count": null,
   "metadata": {},
   "outputs": [],
   "source": [
    "from collections import defaultdict\n",
    "data = {\n",
    "    \"power/energy-pkg/\": defaultdict(list),\n",
    "    \"power/energy-ram/\": defaultdict(list),\n",
    "}\n",
    "\n",
    "for filename in os.listdir(\"out/\"):\n",
    "    # Only parse our data files\n",
    "    if \".out\" not in filename:\n",
    "        continue\n",
    "    with open(f\"out/{filename}\") as f:\n",
    "        for line in f.readlines():\n",
    "            line = line.strip()\n",
    "            cores, value, measurement = line.split(\" \")\n",
    "            data[measurement][cores].append(float(value))"
   ]
  },
  {
   "cell_type": "markdown",
   "metadata": {},
   "source": [
    "Finally, we display a box chart of the data. If you ran the experiment multiple times, you may see some variation on the plot."
   ]
  },
  {
   "cell_type": "code",
   "execution_count": null,
   "metadata": {},
   "outputs": [],
   "source": [
    "import matplotlib.pyplot as plt\n",
    "\n",
    "# Format perf's label into a nicer string\n",
    "PERF_CHART_TYPE_FORMAT = {\n",
    "    \"power/energy-pkg/\": \"CPU\",\n",
    "    \"power/energy-ram/\": \"RAM\",\n",
    "}\n",
    "\n",
    "fig, (ax1, ax2) = plt.subplots(1, 2, figsize=(10, 4))\n",
    "axes = iter([ax1, ax2])\n",
    "\n",
    "for chart_type, chart_data in data.items():\n",
    "    subplot = next(axes)\n",
    "    labels = list(chart_data.keys())\n",
    "    values = list(chart_data.values())\n",
    "    subplot.boxplot(values, labels=labels)\n",
    "    \n",
    "    subplot.set_title(f'{PERF_CHART_TYPE_FORMAT[chart_type]} Energy Consumption\\nfor CPU Utilization % Box Plot')\n",
    "    subplot.set_xlabel('CPU Utilization %')\n",
    "    subplot.set_ylabel('Joules')\n",
    "plt.show()"
   ]
  }
 ],
 "metadata": {
  "kernelspec": {
   "display_name": "Python 3 (ipykernel)",
   "language": "python",
   "name": "python3"
  },
  "language_info": {
   "codemirror_mode": {
    "name": "ipython",
    "version": 3
   },
   "file_extension": ".py",
   "mimetype": "text/x-python",
   "name": "python",
   "nbconvert_exporter": "python",
   "pygments_lexer": "ipython3",
   "version": "3.10.9"
  }
 },
 "nbformat": 4,
 "nbformat_minor": 4
}
