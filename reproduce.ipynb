{
 "cells": [
  {
   "cell_type": "markdown",
   "metadata": {},
   "source": [
    "# Reproducing Gluetest in Chameleon Trovi\n",
    "\n",
    "### Configuring resources"
   ]
  },
  {
   "cell_type": "code",
   "execution_count": null,
   "metadata": {
    "tags": []
   },
   "outputs": [],
   "source": [
    "from chi import context\n",
    "\n",
    "context.version = \"1.0\"\n",
    "\n",
    "context.choose_site(default=\"CHI@TACC\")\n",
    "context.choose_project()"
   ]
  },
  {
   "cell_type": "markdown",
   "metadata": {},
   "source": [
    "### Check available hardware"
   ]
  },
  {
   "cell_type": "code",
   "execution_count": null,
   "metadata": {
    "tags": []
   },
   "outputs": [],
   "source": [
    "from chi import hardware\n",
    "\n",
    "node_type = \"compute_cascadelake_r\"\n",
    "available_nodes = hardware.get_nodes(node_type=node_type, filter_reserved=True)\n",
    "if available_nodes:\n",
    "    print(f\"There currently are {len(available_nodes)} {node_type} nodes ready to use\")\n",
    "else:\n",
    "    print(f\"All {node_type} nodes are in use! You could use next_free_timeslot to see how long you need to wait, or use the calendar.\")"
   ]
  },
  {
   "cell_type": "markdown",
   "metadata": {},
   "source": [
    "### Reserve node"
   ]
  },
  {
   "cell_type": "code",
   "execution_count": null,
   "metadata": {
    "tags": []
   },
   "outputs": [],
   "source": [
    "from chi import lease\n",
    "from datetime import timedelta\n",
    "import os\n",
    "\n",
    "my_lease = lease.Lease(f\"{os.getenv('USER')}-power-management\", duration=timedelta(hours=3))\n",
    "my_lease.add_node_reservation(nodes=[available_nodes[0]]) # or you could use node_type=node_type\n",
    "my_lease.add_fip_reservation(1) # include a floating ip\n",
    "my_lease.submit(idempotent=True)"
   ]
  },
  {
   "cell_type": "markdown",
   "metadata": {},
   "source": [
    "### Create a server on the node"
   ]
  },
  {
   "cell_type": "code",
   "execution_count": null,
   "metadata": {
    "tags": []
   },
   "outputs": [],
   "source": [
    "from chi import server\n",
    "\n",
    "my_server = server.Server(\n",
    "    f\"{os.getenv('USER')}-power-management\",\n",
    "    reservation_id=my_lease.node_reservations[0][\"id\"],\n",
    "    image_name=\"CC-Ubuntu22.04\", # or use image_name\n",
    ")\n",
    "my_server.submit(idempotent=True)"
   ]
  },
  {
   "cell_type": "markdown",
   "metadata": {},
   "source": [
    "### Configure networking on the node"
   ]
  },
  {
   "cell_type": "code",
   "execution_count": null,
   "metadata": {
    "tags": []
   },
   "outputs": [],
   "source": [
    "fip = my_lease.get_reserved_floating_ips()[0]\n",
    "my_server.associate_floating_ip(fip)\n",
    "my_server.check_connectivity(host=fip)"
   ]
  },
  {
   "cell_type": "markdown",
   "metadata": {},
   "source": [
    "## Run Flex\n",
    "\n",
    "Now, we can finally run flex. First we need to clone the github repo first and then run the reprduce.sh script which contain the instructions from README.md\n",
    "packaged into a bash file"
   ]
  },
  {
   "cell_type": "code",
   "execution_count": null,
   "metadata": {
    "tags": []
   },
   "outputs": [],
   "source": [
    "my_server.execute(\"git clone https://github.com/radhofan/flex.git\")"
   ]
  },
  {
   "cell_type": "code",
   "execution_count": null,
   "metadata": {
    "tags": []
   },
   "outputs": [],
   "source": [
    "my_server.execute(\"chmod +x flex/reproduce.sh\")\n",
    "my_server.execute(\"bash flex/reproduce.sh\")"
   ]
  }
 ],
 "metadata": {
  "kernelspec": {
   "display_name": "Python 3",
   "language": "python",
   "name": "python3"
  },
  "language_info": {
   "codemirror_mode": {
    "name": "ipython",
    "version": 3
   },
   "file_extension": ".py",
   "mimetype": "text/x-python",
   "name": "python",
   "nbconvert_exporter": "python",
   "pygments_lexer": "ipython3",
   "version": "3.12.1"
  }
 },
 "nbformat": 4,
 "nbformat_minor": 4
}
